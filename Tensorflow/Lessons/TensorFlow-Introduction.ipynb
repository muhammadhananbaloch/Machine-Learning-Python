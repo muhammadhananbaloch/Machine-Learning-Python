{
 "cells": [
  {
   "cell_type": "code",
   "execution_count": 2,
   "id": "f12358ea-78e7-43fd-99a8-3ed9e2a7f742",
   "metadata": {},
   "outputs": [
    {
     "name": "stdout",
     "output_type": "stream",
     "text": [
      "<module 'tensorflow._api.v2.version' from 'C:\\\\Users\\\\HP\\\\anaconda3\\\\Lib\\\\site-packages\\\\tensorflow\\\\_api\\\\v2\\\\version\\\\__init__.py'>\n"
     ]
    }
   ],
   "source": [
    "import tensorflow as tf  # import the tensorflow module\n",
    "print(tf.version)  # make sure the version is 2.x"
   ]
  },
  {
   "cell_type": "markdown",
   "id": "f662400f-2b12-4d62-a6c0-101ae8f7b423",
   "metadata": {},
   "source": [
    "## Tensors\n",
    "\"A tensor is a generalization of vectors and matrices to potentially higher dimensions. Internally, TensorFlow represents tensors as n-dimensional arrays of base datatypes.\" (https://www.tensorflow.org/guide/tensor)\n",
    "\n",
    "It should't surprise you that tensors are a fundemental apsect of TensorFlow. They are the main objects that are passed around and manipluated throughout the program. Each tensor represents a partialy defined computation that will eventually produce a value. TensorFlow programs work by building a graph of Tensor objects that details how tensors are related. Running different parts of the graph allow results to be generated.\n",
    "\n",
    "Each tensor has a data type and a shape.\n",
    "\n",
    "**Data Types Include**: float32, int32, string and others.\n",
    "\n",
    "**Shape**: Represents the dimension of data.\n",
    "\n",
    "Just like vectors and matrices tensors can have operations applied to them like addition, subtraction, dot product, cross product etc.\n",
    "\n",
    "In the next sections we will discuss some different properties of tensors. This is to make you more familiar with how tensorflow represnts data and how you can manipulate this data.\n"
   ]
  },
  {
   "cell_type": "markdown",
   "id": "24842353-8482-4e8c-b707-26d1172f7b59",
   "metadata": {},
   "source": [
    "### Creating Tensors\n",
    "Below is an example of how to create some different tensors.\n",
    "\n",
    "You simply define the value of the tensor and the datatype and you are good to go! It's worth mentioning that usually we deal with tensors of numeric data, it is quite rare to see string tensors.\n",
    "\n",
    "For a full list of datatypes please refer to the following guide.\n",
    "\n",
    "https://www.tensorflow.org/api_docs/python/tf/dtypes/DType?version=stable"
   ]
  },
  {
   "cell_type": "code",
   "execution_count": 4,
   "id": "9f4b5060-2e3b-4ecc-8fa4-1169a7fd18b2",
   "metadata": {},
   "outputs": [],
   "source": [
    "string = tf.Variable(\"this is a string\", tf.string)\n",
    "number = tf.Variable(324, tf.int16)\n",
    "floating = tf.Variable(3.567, tf.float64)"
   ]
  },
  {
   "cell_type": "markdown",
   "id": "c68d7c3b-2fec-4d80-b14d-3285560f4a92",
   "metadata": {},
   "source": [
    "### Rank/Degree of Tensors\n",
    "Another word for rank is degree, these terms simply mean the number of dimensions involved in the tensor. What we created above is a *tensor of rank 0*, also known as a scalar.\n",
    "\n",
    "Now we'll create some tensors of higher degrees/ranks."
   ]
  },
  {
   "cell_type": "code",
   "execution_count": 6,
   "id": "cd4ca6f4-ced8-4ee1-8af9-feb01c955701",
   "metadata": {},
   "outputs": [],
   "source": [
    "rank1_tensor = tf.Variable([\"Test\"], tf.string)\n",
    "rank2_tensor = tf.Variable([[\"test\", \"ok\"], [\"test\", \"yes\"]], tf.string)"
   ]
  },
  {
   "cell_type": "code",
   "execution_count": null,
   "id": "ef39cb38-dea7-46bf-8b82-ab1913b9349b",
   "metadata": {},
   "outputs": [],
   "source": []
  }
 ],
 "metadata": {
  "kernelspec": {
   "display_name": "Python 3 (ipykernel)",
   "language": "python",
   "name": "python3"
  },
  "language_info": {
   "codemirror_mode": {
    "name": "ipython",
    "version": 3
   },
   "file_extension": ".py",
   "mimetype": "text/x-python",
   "name": "python",
   "nbconvert_exporter": "python",
   "pygments_lexer": "ipython3",
   "version": "3.11.7"
  }
 },
 "nbformat": 4,
 "nbformat_minor": 5
}
