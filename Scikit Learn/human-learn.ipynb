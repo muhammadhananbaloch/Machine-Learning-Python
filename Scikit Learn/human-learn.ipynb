{
 "cells": [
  {
   "cell_type": "code",
   "execution_count": 2,
   "id": "906e7f0d-9389-41f0-a6e9-b2b7f3dc3665",
   "metadata": {},
   "outputs": [
    {
     "name": "stdout",
     "output_type": "stream",
     "text": [
      "Requirement already satisfied: human-learn in c:\\users\\hp\\anaconda3\\lib\\site-packages (0.3.5)\n",
      "Requirement already satisfied: scikit-learn>=0.23.2 in c:\\users\\hp\\anaconda3\\lib\\site-packages (from human-learn) (1.2.2)\n",
      "Requirement already satisfied: pandas>=0.23.4 in c:\\users\\hp\\anaconda3\\lib\\site-packages (from human-learn) (2.1.4)\n",
      "Requirement already satisfied: clumper<0.3.0,>=0.2.5 in c:\\users\\hp\\anaconda3\\lib\\site-packages (from human-learn) (0.2.15)\n",
      "Requirement already satisfied: Shapely>=1.7.1 in c:\\users\\hp\\anaconda3\\lib\\site-packages (from human-learn) (2.0.6)\n",
      "Requirement already satisfied: bokeh<3.0.0,>=2.2.1 in c:\\users\\hp\\anaconda3\\lib\\site-packages (from human-learn) (2.4.3)\n",
      "Requirement already satisfied: Jinja2>=2.9 in c:\\users\\hp\\anaconda3\\lib\\site-packages (from bokeh<3.0.0,>=2.2.1->human-learn) (3.1.3)\n",
      "Requirement already satisfied: numpy>=1.11.3 in c:\\users\\hp\\anaconda3\\lib\\site-packages (from bokeh<3.0.0,>=2.2.1->human-learn) (1.26.4)\n",
      "Requirement already satisfied: packaging>=16.8 in c:\\users\\hp\\anaconda3\\lib\\site-packages (from bokeh<3.0.0,>=2.2.1->human-learn) (23.1)\n",
      "Requirement already satisfied: pillow>=7.1.0 in c:\\users\\hp\\anaconda3\\lib\\site-packages (from bokeh<3.0.0,>=2.2.1->human-learn) (10.2.0)\n",
      "Requirement already satisfied: PyYAML>=3.10 in c:\\users\\hp\\anaconda3\\lib\\site-packages (from bokeh<3.0.0,>=2.2.1->human-learn) (6.0.1)\n",
      "Requirement already satisfied: tornado>=5.1 in c:\\users\\hp\\anaconda3\\lib\\site-packages (from bokeh<3.0.0,>=2.2.1->human-learn) (6.3.3)\n",
      "Requirement already satisfied: typing-extensions>=3.10.0 in c:\\users\\hp\\anaconda3\\lib\\site-packages (from bokeh<3.0.0,>=2.2.1->human-learn) (4.9.0)\n",
      "Requirement already satisfied: python-dateutil>=2.8.2 in c:\\users\\hp\\anaconda3\\lib\\site-packages (from pandas>=0.23.4->human-learn) (2.8.2)\n",
      "Requirement already satisfied: pytz>=2020.1 in c:\\users\\hp\\anaconda3\\lib\\site-packages (from pandas>=0.23.4->human-learn) (2023.3.post1)\n",
      "Requirement already satisfied: tzdata>=2022.1 in c:\\users\\hp\\anaconda3\\lib\\site-packages (from pandas>=0.23.4->human-learn) (2023.3)\n",
      "Requirement already satisfied: scipy>=1.3.2 in c:\\users\\hp\\anaconda3\\lib\\site-packages (from scikit-learn>=0.23.2->human-learn) (1.11.4)\n",
      "Requirement already satisfied: joblib>=1.1.1 in c:\\users\\hp\\anaconda3\\lib\\site-packages (from scikit-learn>=0.23.2->human-learn) (1.2.0)\n",
      "Requirement already satisfied: threadpoolctl>=2.0.0 in c:\\users\\hp\\anaconda3\\lib\\site-packages (from scikit-learn>=0.23.2->human-learn) (2.2.0)\n",
      "Requirement already satisfied: MarkupSafe>=2.0 in c:\\users\\hp\\anaconda3\\lib\\site-packages (from Jinja2>=2.9->bokeh<3.0.0,>=2.2.1->human-learn) (2.1.3)\n",
      "Requirement already satisfied: six>=1.5 in c:\\users\\hp\\anaconda3\\lib\\site-packages (from python-dateutil>=2.8.2->pandas>=0.23.4->human-learn) (1.16.0)\n",
      "Note: you may need to restart the kernel to use updated packages.\n"
     ]
    }
   ],
   "source": [
    "%pip install human-learn"
   ]
  },
  {
   "cell_type": "code",
   "execution_count": 3,
   "id": "5f775603-abca-4e23-91cd-1d948b0750cf",
   "metadata": {},
   "outputs": [],
   "source": [
    "import numpy as np\n",
    "import pandas as pd\n",
    "\n",
    "from hulearn.datasets import load_titanic\n",
    "from sklearn.model_selection import GridSearchCV"
   ]
  },
  {
   "cell_type": "code",
   "execution_count": 4,
   "id": "16dccb26-edff-4a20-9094-de871e04ba45",
   "metadata": {},
   "outputs": [],
   "source": [
    "df = load_titanic(as_frame=True)\n",
    "X, y = df.drop(columns=['survived']), df['survived']"
   ]
  },
  {
   "cell_type": "code",
   "execution_count": 5,
   "id": "d1a38e52-8511-4197-85aa-74cee92248ac",
   "metadata": {},
   "outputs": [
    {
     "data": {
      "text/html": [
       "<div>\n",
       "<style scoped>\n",
       "    .dataframe tbody tr th:only-of-type {\n",
       "        vertical-align: middle;\n",
       "    }\n",
       "\n",
       "    .dataframe tbody tr th {\n",
       "        vertical-align: top;\n",
       "    }\n",
       "\n",
       "    .dataframe thead th {\n",
       "        text-align: right;\n",
       "    }\n",
       "</style>\n",
       "<table border=\"1\" class=\"dataframe\">\n",
       "  <thead>\n",
       "    <tr style=\"text-align: right;\">\n",
       "      <th></th>\n",
       "      <th>survived</th>\n",
       "      <th>pclass</th>\n",
       "      <th>name</th>\n",
       "      <th>sex</th>\n",
       "      <th>age</th>\n",
       "      <th>fare</th>\n",
       "      <th>sibsp</th>\n",
       "      <th>parch</th>\n",
       "    </tr>\n",
       "  </thead>\n",
       "  <tbody>\n",
       "    <tr>\n",
       "      <th>0</th>\n",
       "      <td>0</td>\n",
       "      <td>3</td>\n",
       "      <td>Braund, Mr. Owen Harris</td>\n",
       "      <td>male</td>\n",
       "      <td>22.0</td>\n",
       "      <td>7.2500</td>\n",
       "      <td>1</td>\n",
       "      <td>0</td>\n",
       "    </tr>\n",
       "    <tr>\n",
       "      <th>1</th>\n",
       "      <td>1</td>\n",
       "      <td>1</td>\n",
       "      <td>Cumings, Mrs. John Bradley (Florence Briggs Th...</td>\n",
       "      <td>female</td>\n",
       "      <td>38.0</td>\n",
       "      <td>71.2833</td>\n",
       "      <td>1</td>\n",
       "      <td>0</td>\n",
       "    </tr>\n",
       "    <tr>\n",
       "      <th>2</th>\n",
       "      <td>1</td>\n",
       "      <td>3</td>\n",
       "      <td>Heikkinen, Miss. Laina</td>\n",
       "      <td>female</td>\n",
       "      <td>26.0</td>\n",
       "      <td>7.9250</td>\n",
       "      <td>0</td>\n",
       "      <td>0</td>\n",
       "    </tr>\n",
       "    <tr>\n",
       "      <th>3</th>\n",
       "      <td>1</td>\n",
       "      <td>1</td>\n",
       "      <td>Futrelle, Mrs. Jacques Heath (Lily May Peel)</td>\n",
       "      <td>female</td>\n",
       "      <td>35.0</td>\n",
       "      <td>53.1000</td>\n",
       "      <td>1</td>\n",
       "      <td>0</td>\n",
       "    </tr>\n",
       "    <tr>\n",
       "      <th>4</th>\n",
       "      <td>0</td>\n",
       "      <td>3</td>\n",
       "      <td>Allen, Mr. William Henry</td>\n",
       "      <td>male</td>\n",
       "      <td>35.0</td>\n",
       "      <td>8.0500</td>\n",
       "      <td>0</td>\n",
       "      <td>0</td>\n",
       "    </tr>\n",
       "  </tbody>\n",
       "</table>\n",
       "</div>"
      ],
      "text/plain": [
       "   survived  pclass                                               name  \\\n",
       "0         0       3                            Braund, Mr. Owen Harris   \n",
       "1         1       1  Cumings, Mrs. John Bradley (Florence Briggs Th...   \n",
       "2         1       3                             Heikkinen, Miss. Laina   \n",
       "3         1       1       Futrelle, Mrs. Jacques Heath (Lily May Peel)   \n",
       "4         0       3                           Allen, Mr. William Henry   \n",
       "\n",
       "      sex   age     fare  sibsp  parch  \n",
       "0    male  22.0   7.2500      1      0  \n",
       "1  female  38.0  71.2833      1      0  \n",
       "2  female  26.0   7.9250      0      0  \n",
       "3  female  35.0  53.1000      1      0  \n",
       "4    male  35.0   8.0500      0      0  "
      ]
     },
     "execution_count": 5,
     "metadata": {},
     "output_type": "execute_result"
    }
   ],
   "source": [
    "df.head()"
   ]
  },
  {
   "cell_type": "markdown",
   "id": "75e13b8c-dd7c-4524-863c-72ad256ca40c",
   "metadata": {},
   "source": [
    "define a rule based function that says above a certian threshold of fare payed people had more chances to survive, so they survived"
   ]
  },
  {
   "cell_type": "markdown",
   "id": "360dd6cc-de47-418c-8aa5-a9b1710ce194",
   "metadata": {},
   "source": [
    "## Function"
   ]
  },
  {
   "cell_type": "code",
   "execution_count": 6,
   "id": "a00c2471-e27e-4bb3-b0d1-c6c4d6fffdab",
   "metadata": {},
   "outputs": [],
   "source": [
    "def fare_based(dataf, threshold=10):\n",
    "    return np.array(dataf['fare'] > threshold).astype(int)"
   ]
  },
  {
   "cell_type": "code",
   "execution_count": 7,
   "id": "337eadc1-c41c-4bdd-b087-0433763db3b4",
   "metadata": {},
   "outputs": [
    {
     "data": {
      "text/plain": [
       "array([0, 1, 0, 1, 0, 1, 1, 1, 1, 1, 1, 0, 1, 0, 1, 1, 1, 1, 1, 0, 1, 1,\n",
       "       1, 1, 1, 1, 1, 1, 0, 1, 1, 0, 1, 1, 0, 1, 1, 0, 1, 1, 1, 1, 0, 1,\n",
       "       1, 0, 1, 1, 1, 1, 0, 0, 0, 1, 1, 1, 1, 1, 0, 1, 1, 0, 0, 1, 1, 1,\n",
       "       1, 1, 0, 0, 0, 1, 1, 0, 1, 1, 1, 1, 0, 1, 0, 0, 0, 0, 0, 1, 1, 0,\n",
       "       0, 1, 0, 0, 1, 1, 1, 1, 1, 1, 1, 1, 0, 0, 0, 0, 1, 1, 1, 1, 1, 1,\n",
       "       0, 1, 0, 1, 0, 1, 1, 0, 1, 1, 1, 1, 1, 0, 1, 1, 0, 0, 1, 1, 0, 0,\n",
       "       1, 1, 1, 1, 1, 1, 1, 0, 1, 0, 1, 1, 0, 1, 1, 1, 1, 1, 0, 1, 1, 0,\n",
       "       1, 1, 1, 0, 1, 0, 0, 0, 0, 1, 1, 1, 0, 1, 0, 1, 0, 1, 1, 0, 1, 1,\n",
       "       1, 0, 1, 0, 1, 0, 1, 0, 1, 1, 0, 1, 1, 1, 1, 1, 1, 1, 1, 0, 0, 1,\n",
       "       0, 1, 1, 1, 1, 1, 1, 1, 1, 1, 1, 1, 1, 1, 0, 1, 1, 0, 1, 1, 0, 1,\n",
       "       1, 1, 0, 1, 1, 0, 0, 0, 0, 0, 0, 0, 1, 0, 1, 1, 1, 0, 0, 0, 1, 1,\n",
       "       0, 1, 1, 1, 1, 1, 1, 1, 0, 1, 0, 1, 1, 1, 1, 0, 0, 1, 1, 1, 0, 1,\n",
       "       1, 1, 1, 1, 1, 1, 1, 0, 1, 1, 1, 1, 1, 1, 1, 1, 1, 0, 0, 0, 1, 0,\n",
       "       1, 1, 1, 1, 1, 0, 0, 1, 1, 1, 0, 0, 1, 1, 0, 1, 0, 0, 1, 1, 0, 1,\n",
       "       1, 1, 1, 1, 1, 0, 0, 1, 1, 0, 0, 1, 1, 1, 0, 0, 0, 1, 0, 1, 0, 1,\n",
       "       0, 1, 0, 1, 1, 1, 1, 0, 0, 1, 1, 1, 1, 0, 1, 1, 0, 1, 1, 1, 1, 1,\n",
       "       1, 1, 0, 0, 1, 1, 1, 1, 1, 1, 1, 1, 1, 0, 1, 1, 1, 0, 1, 1, 0, 1,\n",
       "       1, 0, 1, 1, 0, 1, 0, 0, 1, 1, 0, 0, 1, 1, 1, 0, 1, 0, 1, 1, 0, 1,\n",
       "       1, 0, 0, 0, 0, 1, 1, 1, 1, 1, 0, 1, 1, 0, 1, 1, 1, 0, 1, 0, 1, 0,\n",
       "       1, 0, 1, 1, 0, 0, 1, 1, 1, 1, 1, 1, 1, 1, 1, 1, 1, 1, 1, 1, 1, 0,\n",
       "       0, 1, 1, 1, 1, 0, 1, 1, 0, 1, 0, 1, 1, 1, 0, 1, 1, 1, 0, 1, 1, 1,\n",
       "       1, 1, 1, 1, 0, 0, 1, 0, 1, 1, 0, 1, 1, 0, 1, 1, 0, 1, 1, 1, 1, 0,\n",
       "       1, 1, 1, 1, 1, 1, 1, 1, 0, 1, 1, 1, 1, 0, 1, 0, 1, 1, 1, 0, 1, 1,\n",
       "       0, 1, 1, 1, 1, 0, 1, 0, 1, 0, 0, 1, 1, 1, 1, 1, 0, 1, 0, 0, 1, 1,\n",
       "       0, 1, 1, 1, 1, 0, 0, 0, 1, 1, 1, 0, 1, 1, 1, 1, 1, 0, 1, 1, 1, 0,\n",
       "       1, 1, 0, 1, 0, 1, 1, 1, 0, 0, 1, 1, 1, 1, 1, 1, 0, 1, 0, 1, 1, 0,\n",
       "       1, 0, 1, 1, 1, 0, 1, 1, 0, 1, 1, 1, 1, 1, 1, 1, 1, 1, 1, 0, 1, 1,\n",
       "       1, 1, 0, 1, 1, 0, 0, 1, 1, 0, 1, 0, 1, 0, 0, 1, 0, 1, 0, 0, 0, 0,\n",
       "       1, 1, 0, 1, 1, 0, 1, 1, 0, 0, 0, 1, 1, 1, 1, 0, 1, 1, 0, 0, 1, 1,\n",
       "       1, 1, 0, 0, 0, 0, 0, 1, 1, 0, 1, 1, 1, 0, 0, 1, 0, 1, 1, 0, 0, 1,\n",
       "       1, 1, 1, 1, 1, 0, 0, 1, 0, 1, 0, 1, 1, 0, 0, 0, 0, 1, 1, 0, 1, 1,\n",
       "       1, 0, 1, 1, 1, 1, 1, 1, 1, 1, 1, 1, 1, 0, 1, 0, 0, 1, 0, 0, 0, 1,\n",
       "       1, 0, 1, 1, 0, 1, 1, 1, 1, 0])"
      ]
     },
     "execution_count": 7,
     "metadata": {},
     "output_type": "execute_result"
    }
   ],
   "source": [
    "fare_based(X)"
   ]
  },
  {
   "cell_type": "markdown",
   "id": "500c7a10-6468-4205-ae91-928beddef364",
   "metadata": {},
   "source": [
    "the issue is this is a function, something that scikit learn doesn't accept as a classifier that means we can not use this in a classifier or a pipeline"
   ]
  },
  {
   "cell_type": "markdown",
   "id": "58ebead9-ddc6-4f18-8a9b-db43091f2e7d",
   "metadata": {},
   "source": [
    "Luckily we can use this tool from human learn to address this"
   ]
  },
  {
   "cell_type": "markdown",
   "id": "50669494-5069-4094-826c-41377cb2e7f8",
   "metadata": {},
   "source": [
    "## Function Classifier"
   ]
  },
  {
   "cell_type": "markdown",
   "id": "36313ea4-e3e6-4378-9b19-5b1ceb3a18be",
   "metadata": {},
   "source": [
    "it converts any function that i write to scikit learn compatible classifier"
   ]
  },
  {
   "cell_type": "code",
   "execution_count": 8,
   "id": "144c6cdf-21b8-4b06-b7ba-1fe4ae08bffe",
   "metadata": {},
   "outputs": [],
   "source": [
    "from hulearn.classification import FunctionClassifier\n",
    "\n",
    "mod = FunctionClassifier(fare_based, threshold=10)"
   ]
  },
  {
   "cell_type": "code",
   "execution_count": 9,
   "id": "2668efbc-53ae-45ec-bccc-05b1d4e5e2e9",
   "metadata": {},
   "outputs": [
    {
     "data": {
      "text/html": [
       "<style>#sk-container-id-1 {color: black;background-color: white;}#sk-container-id-1 pre{padding: 0;}#sk-container-id-1 div.sk-toggleable {background-color: white;}#sk-container-id-1 label.sk-toggleable__label {cursor: pointer;display: block;width: 100%;margin-bottom: 0;padding: 0.3em;box-sizing: border-box;text-align: center;}#sk-container-id-1 label.sk-toggleable__label-arrow:before {content: \"▸\";float: left;margin-right: 0.25em;color: #696969;}#sk-container-id-1 label.sk-toggleable__label-arrow:hover:before {color: black;}#sk-container-id-1 div.sk-estimator:hover label.sk-toggleable__label-arrow:before {color: black;}#sk-container-id-1 div.sk-toggleable__content {max-height: 0;max-width: 0;overflow: hidden;text-align: left;background-color: #f0f8ff;}#sk-container-id-1 div.sk-toggleable__content pre {margin: 0.2em;color: black;border-radius: 0.25em;background-color: #f0f8ff;}#sk-container-id-1 input.sk-toggleable__control:checked~div.sk-toggleable__content {max-height: 200px;max-width: 100%;overflow: auto;}#sk-container-id-1 input.sk-toggleable__control:checked~label.sk-toggleable__label-arrow:before {content: \"▾\";}#sk-container-id-1 div.sk-estimator input.sk-toggleable__control:checked~label.sk-toggleable__label {background-color: #d4ebff;}#sk-container-id-1 div.sk-label input.sk-toggleable__control:checked~label.sk-toggleable__label {background-color: #d4ebff;}#sk-container-id-1 input.sk-hidden--visually {border: 0;clip: rect(1px 1px 1px 1px);clip: rect(1px, 1px, 1px, 1px);height: 1px;margin: -1px;overflow: hidden;padding: 0;position: absolute;width: 1px;}#sk-container-id-1 div.sk-estimator {font-family: monospace;background-color: #f0f8ff;border: 1px dotted black;border-radius: 0.25em;box-sizing: border-box;margin-bottom: 0.5em;}#sk-container-id-1 div.sk-estimator:hover {background-color: #d4ebff;}#sk-container-id-1 div.sk-parallel-item::after {content: \"\";width: 100%;border-bottom: 1px solid gray;flex-grow: 1;}#sk-container-id-1 div.sk-label:hover label.sk-toggleable__label {background-color: #d4ebff;}#sk-container-id-1 div.sk-serial::before {content: \"\";position: absolute;border-left: 1px solid gray;box-sizing: border-box;top: 0;bottom: 0;left: 50%;z-index: 0;}#sk-container-id-1 div.sk-serial {display: flex;flex-direction: column;align-items: center;background-color: white;padding-right: 0.2em;padding-left: 0.2em;position: relative;}#sk-container-id-1 div.sk-item {position: relative;z-index: 1;}#sk-container-id-1 div.sk-parallel {display: flex;align-items: stretch;justify-content: center;background-color: white;position: relative;}#sk-container-id-1 div.sk-item::before, #sk-container-id-1 div.sk-parallel-item::before {content: \"\";position: absolute;border-left: 1px solid gray;box-sizing: border-box;top: 0;bottom: 0;left: 50%;z-index: -1;}#sk-container-id-1 div.sk-parallel-item {display: flex;flex-direction: column;z-index: 1;position: relative;background-color: white;}#sk-container-id-1 div.sk-parallel-item:first-child::after {align-self: flex-end;width: 50%;}#sk-container-id-1 div.sk-parallel-item:last-child::after {align-self: flex-start;width: 50%;}#sk-container-id-1 div.sk-parallel-item:only-child::after {width: 0;}#sk-container-id-1 div.sk-dashed-wrapped {border: 1px dashed gray;margin: 0 0.4em 0.5em 0.4em;box-sizing: border-box;padding-bottom: 0.4em;background-color: white;}#sk-container-id-1 div.sk-label label {font-family: monospace;font-weight: bold;display: inline-block;line-height: 1.2em;}#sk-container-id-1 div.sk-label-container {text-align: center;}#sk-container-id-1 div.sk-container {/* jupyter's `normalize.less` sets `[hidden] { display: none; }` but bootstrap.min.css set `[hidden] { display: none !important; }` so we also need the `!important` here to be able to override the default hidden behavior on the sphinx rendered scikit-learn.org. See: https://github.com/scikit-learn/scikit-learn/issues/21755 */display: inline-block !important;position: relative;}#sk-container-id-1 div.sk-text-repr-fallback {display: none;}</style><div id=\"sk-container-id-1\" class=\"sk-top-container\"><div class=\"sk-text-repr-fallback\"><pre>GridSearchCV(cv=2,\n",
       "             estimator=FunctionClassifier(func=&lt;function fare_based at 0x00000229BA1F0040&gt;,\n",
       "                                          threshold=10),\n",
       "             param_grid={&#x27;threshold&#x27;: array([  0.        ,   3.44827586,   6.89655172,  10.34482759,\n",
       "        13.79310345,  17.24137931,  20.68965517,  24.13793103,\n",
       "        27.5862069 ,  31.03448276,  34.48275862,  37.93103448,\n",
       "        41.37931034,  44.82758621,  48.27586207,  51.72413793,\n",
       "        55.17241379,  58.62068966,  62.06896552,  65.51724138,\n",
       "        68.96551724,  72.4137931 ,  75.86206897,  79.31034483,\n",
       "        82.75862069,  86.20689655,  89.65517241,  93.10344828,\n",
       "        96.55172414, 100.        ])},\n",
       "             refit=&#x27;accuracy&#x27;,\n",
       "             scoring={&#x27;accuracy&#x27;: make_scorer(accuracy_score),\n",
       "                      &#x27;precision&#x27;: make_scorer(precision_score),\n",
       "                      &#x27;recall&#x27;: make_scorer(recall_score)})</pre><b>In a Jupyter environment, please rerun this cell to show the HTML representation or trust the notebook. <br />On GitHub, the HTML representation is unable to render, please try loading this page with nbviewer.org.</b></div><div class=\"sk-container\" hidden><div class=\"sk-item sk-dashed-wrapped\"><div class=\"sk-label-container\"><div class=\"sk-label sk-toggleable\"><input class=\"sk-toggleable__control sk-hidden--visually\" id=\"sk-estimator-id-1\" type=\"checkbox\" ><label for=\"sk-estimator-id-1\" class=\"sk-toggleable__label sk-toggleable__label-arrow\">GridSearchCV</label><div class=\"sk-toggleable__content\"><pre>GridSearchCV(cv=2,\n",
       "             estimator=FunctionClassifier(func=&lt;function fare_based at 0x00000229BA1F0040&gt;,\n",
       "                                          threshold=10),\n",
       "             param_grid={&#x27;threshold&#x27;: array([  0.        ,   3.44827586,   6.89655172,  10.34482759,\n",
       "        13.79310345,  17.24137931,  20.68965517,  24.13793103,\n",
       "        27.5862069 ,  31.03448276,  34.48275862,  37.93103448,\n",
       "        41.37931034,  44.82758621,  48.27586207,  51.72413793,\n",
       "        55.17241379,  58.62068966,  62.06896552,  65.51724138,\n",
       "        68.96551724,  72.4137931 ,  75.86206897,  79.31034483,\n",
       "        82.75862069,  86.20689655,  89.65517241,  93.10344828,\n",
       "        96.55172414, 100.        ])},\n",
       "             refit=&#x27;accuracy&#x27;,\n",
       "             scoring={&#x27;accuracy&#x27;: make_scorer(accuracy_score),\n",
       "                      &#x27;precision&#x27;: make_scorer(precision_score),\n",
       "                      &#x27;recall&#x27;: make_scorer(recall_score)})</pre></div></div></div><div class=\"sk-parallel\"><div class=\"sk-parallel-item\"><div class=\"sk-item\"><div class=\"sk-label-container\"><div class=\"sk-label sk-toggleable\"><input class=\"sk-toggleable__control sk-hidden--visually\" id=\"sk-estimator-id-2\" type=\"checkbox\" ><label for=\"sk-estimator-id-2\" class=\"sk-toggleable__label sk-toggleable__label-arrow\">estimator: FunctionClassifier</label><div class=\"sk-toggleable__content\"><pre>FunctionClassifier(func=&lt;function fare_based at 0x00000229BA1F0040&gt;,\n",
       "                   threshold=10)</pre></div></div></div><div class=\"sk-serial\"><div class=\"sk-item\"><div class=\"sk-estimator sk-toggleable\"><input class=\"sk-toggleable__control sk-hidden--visually\" id=\"sk-estimator-id-3\" type=\"checkbox\" ><label for=\"sk-estimator-id-3\" class=\"sk-toggleable__label sk-toggleable__label-arrow\">FunctionClassifier</label><div class=\"sk-toggleable__content\"><pre>FunctionClassifier(func=&lt;function fare_based at 0x00000229BA1F0040&gt;,\n",
       "                   threshold=10)</pre></div></div></div></div></div></div></div></div></div></div>"
      ],
      "text/plain": [
       "GridSearchCV(cv=2,\n",
       "             estimator=FunctionClassifier(func=<function fare_based at 0x00000229BA1F0040>,\n",
       "                                          threshold=10),\n",
       "             param_grid={'threshold': array([  0.        ,   3.44827586,   6.89655172,  10.34482759,\n",
       "        13.79310345,  17.24137931,  20.68965517,  24.13793103,\n",
       "        27.5862069 ,  31.03448276,  34.48275862,  37.93103448,\n",
       "        41.37931034,  44.82758621,  48.27586207,  51.72413793,\n",
       "        55.17241379,  58.62068966,  62.06896552,  65.51724138,\n",
       "        68.96551724,  72.4137931 ,  75.86206897,  79.31034483,\n",
       "        82.75862069,  86.20689655,  89.65517241,  93.10344828,\n",
       "        96.55172414, 100.        ])},\n",
       "             refit='accuracy',\n",
       "             scoring={'accuracy': make_scorer(accuracy_score),\n",
       "                      'precision': make_scorer(precision_score),\n",
       "                      'recall': make_scorer(recall_score)})"
      ]
     },
     "execution_count": 9,
     "metadata": {},
     "output_type": "execute_result"
    }
   ],
   "source": [
    "from sklearn.model_selection import GridSearchCV\n",
    "from sklearn.metrics import precision_score, recall_score, accuracy_score, make_scorer\n",
    "\n",
    "grid = GridSearchCV(mod,\n",
    "                   cv=2,\n",
    "                   param_grid={'threshold': np.linspace(0,100, 30)},\n",
    "                   scoring = {'accuracy': make_scorer(accuracy_score),\n",
    "                              'precision': make_scorer(precision_score),\n",
    "                              'recall': make_scorer(recall_score)},\n",
    "                   refit='accuracy'\n",
    "                )\n",
    "grid.fit(X, y)"
   ]
  },
  {
   "cell_type": "code",
   "execution_count": 10,
   "id": "b7be04d0-83d5-46b0-8f24-1b916a1fff9a",
   "metadata": {},
   "outputs": [
    {
     "data": {
      "image/png": "[encoded data removed]",
      "text/plain": [
       "<Figure size 1200x500 with 1 Axes>"
      ]
     },
     "metadata": {},
     "output_type": "display_data"
    }
   ],
   "source": [
    "score_df = (pd.DataFrame(grid.cv_results_)\n",
    "  .set_index('param_threshold')\n",
    "  [['mean_test_accuracy', 'mean_test_precision', 'mean_test_recall']])\n",
    "\n",
    "score_df.plot(figsize=(12, 5), title=\"scores vs. fare-threshold\");\n"
   ]
  },
  {
   "cell_type": "markdown",
   "id": "696a93d4-d70b-4949-a079-aa0cb6433520",
   "metadata": {},
   "source": [
    "## Fallback\n",
    "In machine learning you typically want to do more than just apply a model. It's likely that you'll also want to have a fallback ready in situations where your machine learning model isn't confident."
   ]
  },
  {
   "cell_type": "code",
   "execution_count": null,
   "id": "05c85c05-10e8-43cd-99b3-0be87660de76",
   "metadata": {},
   "outputs": [],
   "source": [
    "import numpy as np\n",
    "from hulearn.classification import FunctionClassifier\n",
    "\n",
    "# These two models are assumed to be trained beforehand.\n",
    "outlier    = WhatEverOutlierDetector().fit(X, y)\n",
    "classifier = WhatEverClassifier().fit(X, y)\n",
    "\n",
    "def make_decision(dataf, proba_threshold=0.8):\n",
    "    # First we create a resulting array with all the predictions\n",
    "    res = classifier.predict(dataf)\n",
    "\n",
    "    # If we detect doubt, \"classify\" it as a fallback instead.\n",
    "    proba = classifier.predict_proba(dataf)\n",
    "    res = np.where(proba.max(axis=1) < proba_threshold, \"doubt_fallback\", res)\n",
    "\n",
    "    # If we detect an outlier, we'll fallback too.\n",
    "    res = np.where(outlier.predict(dataf) == -1, \"outlier_fallback\", res)\n",
    "\n",
    "    # This `res` array contains the output of the drawn diagram.\n",
    "    return res\n",
    "\n",
    "fallback_model = FunctionClassifier(make_decision, proba_threshold=0.8)\n"
   ]
  },
  {
   "cell_type": "code",
   "execution_count": null,
   "id": "b1662b18-0909-4d37-b1fa-8207f265dd2d",
   "metadata": {},
   "outputs": [],
   "source": []
  }
 ],
 "metadata": {
  "kernelspec": {
   "display_name": "Python 3 (ipykernel)",
   "language": "python",
   "name": "python3"
  },
  "language_info": {
   "codemirror_mode": {
    "name": "ipython",
    "version": 3
   },
   "file_extension": ".py",
   "mimetype": "text/x-python",
   "name": "python",
   "nbconvert_exporter": "python",
   "pygments_lexer": "ipython3",
   "version": "3.11.7"
  }
 },
 "nbformat": 4,
 "nbformat_minor": 5
}
